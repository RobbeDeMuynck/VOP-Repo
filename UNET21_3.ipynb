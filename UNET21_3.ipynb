{
 "cells": [
  {
   "cell_type": "code",
   "execution_count": 1,
   "metadata": {},
   "outputs": [],
   "source": [
    "import torch\n",
    "import numpy as np\n",
    "import torch.nn as nn\n",
    "import torchvision\n",
    "import matplotlib.pyplot as plt\n",
    "from tqdm import tqdm\n",
    "from torch.optim import Adam\n",
    "from torch.autograd import Variable\n",
    "from torchvision.transforms import transforms\n",
    "import pathlib\n",
    "import nibabel as nib\n",
    "from torch.utils.data import Dataset, DataLoader"
   ]
  },
  {
   "cell_type": "code",
   "execution_count": 2,
   "metadata": {},
   "outputs": [],
   "source": [
    "device = torch.device('cuda:0' if torch.cuda.is_available() else 'cpu')\n",
    "torch.cuda.empty_cache()"
   ]
  },
  {
   "cell_type": "code",
   "execution_count": 3,
   "metadata": {},
   "outputs": [],
   "source": [
    "### WE MOETEN NOG DROPOUT IMPLEMENTEREN"
   ]
  },
  {
   "cell_type": "code",
   "execution_count": 4,
   "metadata": {},
   "outputs": [],
   "source": [
    "# Train_voor = []\n",
    "# Train_na = []\n",
    "\n",
    "# path = pathlib.Path('processed').parent\n",
    "# for timestamp in [\"-001h\", \"024h\"]:\n",
    "#     for mouse in [\"M03\", \"M04\", \"M05\", \"M06\", \"M07\"]:\n",
    "#         if timestamp == \"-001h\":\n",
    "#             path_ct = path / f\"processed/{mouse}_{timestamp}_CT280.img\"\n",
    "#             Train_voor.append(nib.load(path_ct).get_fdata())\n",
    "#         else: \n",
    "#             path_ct = path / f\"processed/{mouse}_{timestamp}_CT280.img\"\n",
    "#             Train_na.append(nib.load(path_ct).get_fdata())           \n",
    "\n",
    "# Train_Data_001h = []\n",
    "# Train_Data_024h = []\n",
    "# for mouse in Train_voor:\n",
    "#     for slice in mouse:\n",
    "#         Train_Data_001h.append(slice)\n",
    "\n",
    "# for mouse in Train_na:\n",
    "#     for slice in mouse:\n",
    "#         Train_Data_024h.append(slice)\n",
    "\n",
    "\n",
    "# Test_Data_001h = []\n",
    "# Test_Data_024h = []\n",
    "\n",
    "# for timestamp in [\"-001h\", \"024h\"]:\n",
    "#     mouse = \"M08\"\n",
    "#     path_ct = path / f\"processed/{mouse}_{timestamp}_CT280.img\"\n",
    "#     ct = nib.load(path_ct).get_fdata()\n",
    "#     for slice in ct:\n",
    "#         if timestamp == \"-001h\":\n",
    "#             Test_Data_001h.append(slice)\n",
    "#         else:\n",
    "#             Test_Data_024h.append(slice)\n",
    "\n",
    "# #Train_Data_001h (770 slices) 5 muisjes\n",
    "# #Train_Data_024h (770 slices)\n",
    "# #Test_Data_001h  (154 slices)\n",
    "# #Test_Data_024h  (154 slices)\n"
   ]
  },
  {
   "cell_type": "code",
   "execution_count": 5,
   "metadata": {},
   "outputs": [],
   "source": [
    "Train_voor = []\n",
    "Train_na = []\n",
    "\n",
    "path = pathlib.Path('processed').parent\n",
    "for timestamp in [\"-001h\", \"024h\"]:\n",
    "     for mouse in [\"M03\", \"M04\", \"M05\", \"M06\", \"M07\"]:\n",
    "         if timestamp == \"-001h\":\n",
    "             path_ct = path / f\"processed/{mouse}_{timestamp}_CT280.img\"\n",
    "             Train_voor.append(nib.load(path_ct).get_fdata())\n",
    "         else: \n",
    "             path_ct = path / f\"processed/{mouse}_{timestamp}_CT280.img\"\n",
    "             Train_na.append(nib.load(path_ct).get_fdata())           \n",
    "\n",
    "\n",
    "Train_Data_001h = []\n",
    "Train_Data_024h = []\n",
    "\n",
    "for mouse in Train_voor:\n",
    "    for i in range(mouse.shape[-1]):\n",
    "        Train_Data_001h.append(mouse[:,:,i])\n",
    "\n",
    "\n",
    "for mouse in Train_na:\n",
    "    for i in range(mouse.shape[-1]):\n",
    "         Train_Data_024h.append(mouse[:,:,i])\n",
    "\n",
    "\n",
    "Test_Data_001h = []\n",
    "Test_Data_024h = []\n",
    "\n",
    "for timestamp in [\"-001h\", \"024h\"]:\n",
    "     mouse = \"M08\"\n",
    "     path_ct = path / f\"processed/{mouse}_{timestamp}_CT280.img\"\n",
    "     ct = nib.load(path_ct).get_fdata()\n",
    "     for i in range(ct.shape[-1]):\n",
    "        if timestamp == \"-001h\":\n",
    "            Test_Data_001h.append(ct[:,:,i])\n",
    "        else:\n",
    "            Test_Data_024h.append(ct[:,:,i])\n",
    "\n",
    "#Train_Data_001h (1210 slices)\n",
    "#Train_Data_024h (1210 slices)\n",
    "#Test_Data_001h  (242 slices)\n",
    "#Test_Data_024h  (242 slices)\n"
   ]
  },
  {
   "cell_type": "code",
   "execution_count": 6,
   "metadata": {},
   "outputs": [],
   "source": [
    "class conv_block(nn.Module): #dit is 1 blok van 2 convs gevolgd door een relu\n",
    "    def __init__(self, in_channels, out_channels):\n",
    "        super().__init__()\n",
    "\n",
    "        self.conv1 = nn.Conv2d(in_channels, out_channels, kernel_size=3, padding=1)\n",
    "        self.bn1 = nn.BatchNorm2d(out_channels) #is dit noodzakelijk en waarom doet men dit en moet dit voor of na conv?\n",
    "\n",
    "        self.conv2 = nn.Conv2d(out_channels, out_channels, kernel_size=3, padding=1)\n",
    "        self.bn2 = nn.BatchNorm2d(out_channels)\n",
    " \n",
    "        self.relu = nn.ReLU() #evt leaky ReLu??\n",
    "\n",
    "    def forward(self, inputs):\n",
    "        inputs = inputs.float()\n",
    "        x = self.conv1(inputs)\n",
    "        x = self.bn1(x)\n",
    "        x = self.relu(x)\n",
    "        x = self.conv2(x)\n",
    "        x = self.bn2(x)\n",
    "        x = self.relu(x)        \n",
    "        return x\n",
    "\n",
    "class res_block(nn.Module): #dit is 1 blok van 2 convs gevolgd door een relu\n",
    "    def __init__(self, in_channels, out_channels):\n",
    "        super().__init__()\n",
    "\n",
    "        self.conv1 = nn.Conv2d(in_channels, out_channels, kernel_size=3, padding=1)\n",
    "        self.bn1 = nn.BatchNorm2d(out_channels) #is dit noodzakelijk en waarom doet men dit en moet dit voor of na conv?\n",
    "\n",
    "        self.conv2 = nn.Conv2d(out_channels, out_channels, kernel_size=3, padding=1)\n",
    "        self.bn2 = nn.BatchNorm2d(out_channels)\n",
    " \n",
    "        self.relu = nn.ReLU() #evt leaky ReLu??\n",
    "\n",
    "        ###SKIP CONNECTION (Identity Mapping)\n",
    "        self.s = nn.Conv2d(in_channels,out_channels,kernel_size=1,padding=0)\n",
    "\n",
    "    def forward(self, inputs):\n",
    "        inputs = inputs.float()\n",
    "        x = self.conv1(inputs)\n",
    "        x = self.bn1(x)\n",
    "        x = self.relu(x)\n",
    "        x = self.conv2(x)\n",
    "        x = self.bn2(x)\n",
    "        x = self.relu(x)\n",
    "\n",
    "        s = self.s(inputs)\n",
    "        \n",
    "        return x + s\n",
    "\n",
    "\n",
    "class encoder_block(nn.Module):\n",
    "    def __init__(self, in_channels, out_channels):\n",
    "        super().__init__()\n",
    "\n",
    "        self.conv = res_block(in_channels, out_channels)\n",
    "        self.pool = nn.MaxPool2d((2, 2))\n",
    "\n",
    "    def forward(self, inputs):\n",
    "        inputs = inputs.float()\n",
    "        x = self.conv(inputs)\n",
    "        p = self.pool(x)\n",
    "\n",
    "        return x, p\n",
    "\n",
    "class decoder_block(nn.Module):\n",
    "    def __init__(self, in_channels, out_channels):\n",
    "        super().__init__()\n",
    "\n",
    "        self.up = nn.ConvTranspose2d(in_channels, out_channels, kernel_size=2, stride=2, padding=0)\n",
    "        self.conv = conv_block(in_channels, out_channels) #heb ik hier het juiste aantal channels???\n",
    "\n",
    "    def forward(self, inputs, skip):\n",
    "        inputs = inputs.float()\n",
    "        skip = skip.float()\n",
    "        x = self.up(inputs)\n",
    "        _, _, H, W = x.shape\n",
    "        skip = torchvision.transforms.CenterCrop([H,W])(skip)\n",
    "        x = torch.cat([skip, x], axis=1) #ik heb ook al meer advanced versies van de resizing gezien, maakt dit veel uit?\n",
    "        x = self.conv(x)\n",
    "        return x"
   ]
  },
  {
   "cell_type": "code",
   "execution_count": 7,
   "metadata": {},
   "outputs": [],
   "source": [
    "class UNet(nn.Module):\n",
    "    def __init__(self):\n",
    "        super().__init__() #residuals nog implementeren.\n",
    "\n",
    "        \"\"\" Encoder \"\"\"\n",
    "        self.e1 = encoder_block(1, 32)\n",
    "        self.e2 = encoder_block(32, 64)\n",
    "        self.e3 = encoder_block(64, 128)\n",
    "        self.e4 = encoder_block(128, 256)\n",
    "\n",
    "        \"\"\" Bottleneck \"\"\"\n",
    "        self.b = res_block(256, 512) # hoe beslis je eig hoeveel features je wilt per layer?\n",
    "\n",
    "        \"\"\" Decoder \"\"\"\n",
    "        self.d1 = decoder_block(512,256)\n",
    "        self.d2 = decoder_block(256, 128)\n",
    "        self.d3 = decoder_block(128, 64)\n",
    "        self.d4 = decoder_block(64, 32)\n",
    "\n",
    "        \"\"\" Last layer, i.e. de eigenlijke voorspelling \"\"\"\n",
    "        self.outputs = nn.Conv2d(32, 1, kernel_size=1, padding=0)\n",
    "\n",
    "    def forward(self, inputs):\n",
    "        \"\"\" Encoder \"\"\"\n",
    "        s1, p1 = self.e1(inputs)\n",
    "        s2, p2 = self.e2(p1)\n",
    "        s3, p3 = self.e3(p2)\n",
    "        s4, p4 = self.e4(p3)\n",
    "\n",
    "        \"\"\" Bottleneck \"\"\"\n",
    "        b = self.b(p4)\n",
    "\n",
    "        \"\"\" Decoder \"\"\"\n",
    "        d1 = self.d1(b, s4)\n",
    "        d2 = self.d2(d1, s3)\n",
    "        d3 = self.d3(d2, s2)\n",
    "        d4 = self.d4(d3, s1)\n",
    "\n",
    "        outputs = self.outputs(d4)\n",
    "        return outputs"
   ]
  },
  {
   "cell_type": "code",
   "execution_count": 8,
   "metadata": {},
   "outputs": [],
   "source": [
    "model = UNet().to(device)\n",
    "optimizer = Adam(model.parameters(),lr=0.01,weight_decay=0.001)\n",
    "loss_function = nn.MSELoss()"
   ]
  },
  {
   "cell_type": "code",
   "execution_count": 9,
   "metadata": {},
   "outputs": [],
   "source": [
    "num_epochs = 1\n",
    "batch_size = 2\n",
    "# 6 muizen(5training; 1 testing), 2 time instances, 154 slices, (242,121)"
   ]
  },
  {
   "cell_type": "markdown",
   "metadata": {},
   "source": []
  },
  {
   "cell_type": "code",
   "execution_count": 10,
   "metadata": {},
   "outputs": [],
   "source": [
    "class MuizenDataset(Dataset):\n",
    "\n",
    "    def __init__(self,data_voor,data_na,p=0.5):\n",
    "        super().__init__()\n",
    "        self.data_voor = (data_voor - np.mean(data_voor))/np.std(data_voor) #vanwege de kleine dataset laden we het gewoon helemaal in memory en normaliseren we in place\n",
    "        self.data_na = (data_na - np.mean(data_na))-np.std(data_na)\n",
    "        self.p = p\n",
    "\n",
    "    def __len__(self):\n",
    "        return len(self.data_voor)\n",
    "\n",
    "    def __getitem__(self, index):\n",
    "\n",
    "        input = self.data_voor[index]\n",
    "        target = self.data_na[index]\n",
    "        \n",
    "        if torch.rand(1) < self.p:\n",
    "            input = np.flipud(input)\n",
    "            target = np.flipud(target)\n",
    "\n",
    "        if torch.rand(1) < self.p:\n",
    "            input = np.fliplr(input)\n",
    "            target = np.fliplr(target)\n",
    "        ###  DATA AUGMENTATION\n",
    "        input = torch.from_numpy(input.copy())\n",
    "        target = torch.from_numpy(target.copy())\n",
    "        input = input.unsqueeze(0)\n",
    "        target = target.unsqueeze(0)\n",
    "        \n",
    "\n",
    "        # if torch.rand(1) < self.p:\n",
    "        #     input = torchvision.transforms.functional.hflip(input)\n",
    "        #     target = torchvision.transforms.functional.hflip(target)\n",
    "\n",
    "\n",
    "        # if torch.rand(1) < self.p:\n",
    "        #         input = torchvision.transforms.functional.rotate(input,180)\n",
    "        #         target = torchvision.transforms.functional.rotate(target,180)\n",
    "\n",
    "        # if torch.rand(1) < self.p:\n",
    "        #     input = torchvision.transforms.functional.vertical(input.unsqueeze(0))\n",
    "        #     target = torchvision.transforms.functional.vertical(target.unsqueeze(0))\n",
    "        \n",
    "        #augmenter = torch.nn.Sequential(transforms.RandomHorizontalFlip(p=0.5),transforms.RandomVerticalFlip(p=0.5))\n",
    "        # target = augmenter(target)\n",
    "        # input = augmenter(input)\n",
    "        # A = augmenter(input)\n",
    "        # print(A.shape)\n",
    "        return input.float(), target.float()\n",
    "\n",
    "\n",
    "#onze laatste batch is incomplete dus deze laten we vallen\n",
    "train_loader = DataLoader(MuizenDataset(Train_Data_001h,Train_Data_024h),batch_size=batch_size,shuffle=True,drop_last=True)\n",
    "test_loader = DataLoader(MuizenDataset(Test_Data_001h,Test_Data_024h),batch_size=batch_size,shuffle=True,drop_last=True)\n"
   ]
  },
  {
   "cell_type": "code",
   "execution_count": 11,
   "metadata": {},
   "outputs": [
    {
     "name": "stdout",
     "output_type": "stream",
     "text": [
      "epoch: 0\n"
     ]
    },
    {
     "name": "stderr",
     "output_type": "stream",
     "text": [
      "100%|██████████| 605/605 [01:26<00:00,  6.96it/s]\n"
     ]
    }
   ],
   "source": [
    "## TRAINING\n",
    "\n",
    "def MSE(input,output):\n",
    "    return np.mean((input.detach().cpu().numpy()-output.detach().cpu().numpy())**2)\n",
    "\n",
    "MSE_voor_na = []\n",
    "MSE_pred_na = []\n",
    "\n",
    "\n",
    "for epoch in range(num_epochs):  # we itereren meerdere malen over de data tot convergence?\n",
    "    print(\"epoch: {}\".format(epoch))\n",
    "    model.train()\n",
    "    epoch_loss = 0.0\n",
    "\n",
    "    for i, (batch_voor, batch_na) in enumerate(tqdm(train_loader)): #wat is een handige manier om dit in te lezen?\n",
    "        #dim = batch_voor.shape #nu kunnen we ook verschillende input dimensies afhandelen\n",
    "        \n",
    "        \n",
    "        #batch_voor = batch_voor.view(batch_size,1,dim[1],dim[2])\n",
    "        #batch_na = batch_na.view(batch_size,1,dim[1],dim[2])\n",
    "        \n",
    "        if torch.cuda.is_available():\n",
    "            batch_voor=Variable(batch_voor.cuda())\n",
    "            batch_na=Variable(batch_na.cuda())\n",
    "        optimizer.zero_grad()\n",
    "        predicted_batch = model(batch_voor)\n",
    "        _, _, H, W = predicted_batch.shape\n",
    "        batch_na = torchvision.transforms.CenterCrop([H,W])(batch_na)\n",
    "        \n",
    "        loss = loss_function(predicted_batch,batch_na) #vergelijk predicted na image met de echte na image\n",
    "        loss.backward()\n",
    "        optimizer.step()\n",
    "        epoch_loss += loss.item()\n",
    "        \n",
    "        batch_voor = torchvision.transforms.CenterCrop([H,W])(batch_voor)\n",
    "        MSE_pred_na.append(MSE(batch_na[0][0],predicted_batch[0][0]))\n",
    "        MSE_voor_na.append(MSE(batch_na[0][0],batch_voor[0][0]))\n",
    "\n",
    "\n",
    "#plt.title('Losses')\n",
    "#plt.plot(losses)\n",
    "#plt.show()\n",
    "\n",
    "    #print('Average loss:' + str(epoch_loss/len(train_loader)))"
   ]
  },
  {
   "cell_type": "code",
   "execution_count": 12,
   "metadata": {},
   "outputs": [],
   "source": [
    "# plt.figure(figsize=(70,40))\n",
    "# for i in range(batch_size): #efjes afgezet\n",
    "#     afb_pred = predicted_batch[i][0].cpu()\n",
    "#     afb_voor = batch_voor[i][0].cpu()\n",
    "#     afb_na = batch_na[i][0].cpu()\n",
    "#     plt.subplot(8,3,1+i*3)\n",
    "#     plt.imshow(afb_voor.detach().cpu().numpy(),cmap='bone')\n",
    "#     plt.title('Voor injectie')\n",
    "    \n",
    "#     plt.subplot(8,3,2+i*3)\n",
    "#     plt.imshow(afb_na.detach().numpy(),cmap='bone')\n",
    "#     plt.title('Na injectie')\n",
    "\n",
    "#     plt.subplot(8,3,3+i*3)\n",
    "#     plt.imshow(afb_pred.detach().numpy(),cmap='bone')\n",
    "#     plt.title('Predictie')\n",
    "# plt.show()"
   ]
  },
  {
   "cell_type": "code",
   "execution_count": 13,
   "metadata": {},
   "outputs": [
    {
     "data": {
      "image/png": "[encoded data removed]",
      "text/plain": [
       "<Figure size 432x288 with 1 Axes>"
      ]
     },
     "metadata": {
      "needs_background": "light"
     },
     "output_type": "display_data"
    }
   ],
   "source": [
    "plt.plot(MSE_pred_na,label = 'predicted')\n",
    "plt.plot(MSE_voor_na,label = 'voor')\n",
    "plt.title(\"MSE with regard to the 24h post contrast\")\n",
    "plt.legend()\n",
    "plt.show()\n",
    "\n"
   ]
  },
  {
   "cell_type": "code",
   "execution_count": 14,
   "metadata": {},
   "outputs": [
    {
     "name": "stdout",
     "output_type": "stream",
     "text": [
      "[504851.84, 493286.56, 492465.06, 439219.72, 456352.1, 504964.25, 618969.25, 471797.72, 455703.6, 534951.94, 462965.97, 593114.94, 483936.72, 561921.6, 553125.56, 450400.06, 422463.7, 459651.94, 481690.34, 448013.12, 604544.6, 522069.44, 474922.53, 475403.38, 517464.56, 465981.16, 509268.5, 521362.12, 451655.3, 557661.6, 429156.0, 423737.97, 565356.75, 475155.56, 483613.28, 454114.7, 443728.34, 407814.9, 694390.9, 465134.6, 450033.7, 480278.16, 454427.44, 441000.25, 550958.75, 512312.97, 428684.38, 492981.53, 519403.84, 475520.44, 471030.6, 466596.88, 490124.34, 506330.94, 500958.06, 390254.12, 577926.94, 478899.75, 479507.62, 485173.9, 484862.9, 378264.7, 494525.6, 379046.75, 520412.78, 379789.22, 444826.4, 462813.16, 494153.1, 453810.4, 485168.03, 439374.28, 508614.47, 459870.47, 424460.12, 449605.97, 551704.3, 448214.03, 495218.6, 525408.44, 502542.75, 570174.4, 496143.62, 411744.28, 478043.7, 689999.75, 484247.88, 504515.66, 520421.53, 501116.97, 479666.53, 425870.6, 484754.6, 463800.47, 454042.78, 494702.3, 473933.4, 532414.94, 481736.94, 448718.53, 596152.0, 446640.62, 375689.78, 465100.7, 460996.75, 663653.94, 496485.66, 469389.47, 526467.56, 516875.5, 439056.06, 465696.3, 440739.7, 511424.9, 454899.3, 457246.06, 548918.3, 487105.94, 454621.2, 487582.16, 553916.7, 553345.5, 441176.0, 496923.53, 471221.78, 448403.12, 524141.97, 481638.2, 477857.1, 512488.12, 486032.88, 448635.94, 638080.56, 456839.9, 452892.8, 474317.28, 378971.28, 492870.0, 519992.84, 453503.5, 499305.6, 478229.78, 439106.4, 521939.22, 449331.28, 453761.47, 442107.62, 489370.6, 439216.5, 443197.6, 445511.72, 480560.47, 438680.0, 635920.0, 405094.34, 509350.88, 499658.66, 642610.44, 474805.5, 538355.56, 487950.25, 563947.56, 418379.06, 564253.94, 531211.75, 488962.4, 467876.2, 449827.38, 451304.28, 552027.4, 484077.6, 461255.7, 525371.4, 414144.25, 426282.34, 452620.12, 524753.7, 449121.4, 440483.7, 492273.1, 451913.97, 432657.22, 450187.6, 526280.75, 506998.3, 508722.9, 447751.4, 392416.72, 449154.7, 393667.62, 438424.75, 451080.9, 524859.44, 444040.88, 444681.03, 544386.5, 461431.2, 493607.62, 508231.66, 478808.25, 443106.62, 568691.25, 468695.25, 418711.88, 466277.6, 453258.22, 450870.34, 497671.97, 422124.9, 523222.22, 437614.66, 490822.6, 447589.78, 551648.06, 438538.34, 564566.4, 468267.2, 448589.8, 505913.94, 442363.75, 501954.34, 489452.0, 456036.84, 540391.4, 457666.72, 478344.12, 473911.72, 432821.56, 560751.7, 518884.8, 457642.03, 448376.44, 515170.78, 442442.9, 486855.22, 568669.9, 489705.9, 557345.8, 461867.22, 495426.1, 478464.3, 394671.5, 482887.06, 375493.97, 524915.4, 496370.16, 455080.53, 490377.16, 496729.1, 450899.94, 548275.3, 647068.5, 469229.44, 459573.03, 401659.88, 505060.28, 459883.53, 476455.5, 456949.34, 456188.44, 489277.9, 506737.5, 513843.6, 488403.06, 477976.16, 513486.94, 468287.75, 469202.1, 379336.2, 382171.56, 469962.53, 593505.25, 545542.75, 542745.9, 458189.22, 480200.06, 477269.97, 494589.28, 475169.72, 571823.2, 439824.28, 439383.44, 543574.5, 471488.4, 504458.7, 456959.66, 473382.22, 450595.44, 454758.47, 445246.88, 454591.12, 576074.94, 460851.22, 453724.3, 497625.56, 396125.62, 487930.84, 479728.97, 454949.88, 476795.38, 464326.12, 472944.56, 440099.78, 502470.1, 448384.78, 454903.62, 474883.78, 493706.22, 447434.78, 553949.2, 539636.2, 574618.7, 419873.22, 486274.2, 427399.75, 616630.4, 488539.3, 442709.03, 480820.25, 450120.75, 476269.2, 516128.94, 529364.56, 515184.72, 517501.28, 498313.53, 433306.2, 447851.56, 517041.9, 526081.06, 405342.22, 481420.3, 442383.06, 554484.25, 427309.1, 441419.62, 418724.62, 490512.12, 503342.56, 577196.06, 446131.94, 495604.22, 435971.4, 470318.47, 537094.6, 520705.53, 485029.44, 532879.56, 495895.88, 468498.5, 452596.1, 493749.75, 686307.44, 453404.5, 512288.56, 503647.3, 505006.34, 458385.38, 520445.03, 478287.66, 445158.75, 422344.97, 483301.62, 390523.06, 539738.1, 449832.66, 489548.2, 426169.84, 448146.78, 462594.9, 506286.75, 376113.6, 485616.5, 493588.84, 495636.3, 525265.6, 491107.38, 517217.5, 422413.28, 437090.84, 460476.56, 453107.38, 455823.34, 446861.72, 455997.44, 481746.6, 525727.06, 470023.28, 561826.56, 477145.88, 602303.1, 489467.8, 443705.84, 447295.94, 467059.06, 478648.12, 517017.56, 514114.94, 503164.47, 441115.5, 459272.66, 461296.2, 569369.1, 630404.7, 503291.7, 555822.9, 432861.47, 441694.88, 499683.94, 455859.38, 450660.2, 449580.2, 444810.38, 447535.62, 486318.88, 448381.1, 554595.75, 426310.53, 444544.12, 456036.47, 479385.72, 494656.34, 551166.56, 470840.44, 463213.78, 489403.5, 455482.25, 421330.03, 497583.38, 542506.6, 542336.25, 560012.2, 434602.72, 465093.97, 494801.25, 420322.84, 445297.9, 541560.4, 477878.16, 457042.0, 463312.6, 501789.47, 494725.78, 440971.75, 463389.22, 445434.03, 434584.53, 452009.1, 503061.72, 449953.12, 566621.44, 539963.6, 451113.06, 480466.88, 498700.3, 446052.7, 485110.9, 490405.1, 484267.7, 497550.22, 449110.4, 445753.78, 457754.66, 524837.6, 689895.9, 381026.72, 438671.47, 450963.66, 469383.56, 376961.6, 447424.06, 420768.88, 396204.62, 489960.5, 474479.34, 447295.6, 459517.25, 516934.9, 473758.28, 411592.3, 627714.6, 394319.72, 490707.7, 442822.34, 456914.34, 466065.78, 466028.3, 436754.94, 458556.12, 475192.84, 429021.78, 594494.25, 554613.44, 445981.6, 379194.22, 501454.7, 507815.3, 443588.72, 470835.2, 599886.1, 433228.8, 546697.1, 477134.6, 661977.1, 403179.2, 471024.66, 391185.84, 438276.12, 432535.12, 454173.16, 470872.5, 456974.5, 549360.9, 463969.03, 469812.75, 486475.12, 555990.25, 555025.56, 460705.1, 527329.06, 612868.06, 465885.34, 458488.6, 599638.6, 422913.47, 379698.8, 457003.3, 564236.7, 494549.28, 447017.62, 486664.94, 479248.25, 577600.2, 443212.12, 523560.12, 622423.6, 500410.66, 479574.03, 564304.0, 439815.9, 480273.7, 494106.16, 531459.2, 450775.75, 474285.78, 376118.6, 388982.84, 451020.88, 635494.06, 500377.8, 488202.66, 459600.3, 547981.2, 497752.0, 443381.97, 453580.06, 554884.6, 540065.6, 421014.34, 436482.44, 569762.1, 486229.9, 562645.8, 454053.84, 446394.44, 445670.1, 442401.94, 682144.25, 445276.03, 523329.16, 448380.06, 557963.44, 496349.8, 503522.34, 404825.16, 538062.06, 490193.72, 503232.25, 489850.28, 499229.03, 584344.5, 469039.03, 606553.5, 454661.34, 497324.44, 466784.78, 435409.2, 577109.2, 578911.94, 682256.4, 500174.9, 450143.38, 441071.62, 500773.03, 556329.4, 426153.28, 439731.38, 521452.94, 463839.88, 494345.47, 468497.4, 613373.8, 559845.5, 554042.25, 555835.7]\n"
     ]
    }
   ],
   "source": [
    "print(MSE_voor_na)"
   ]
  },
  {
   "cell_type": "code",
   "execution_count": 15,
   "metadata": {},
   "outputs": [],
   "source": [
    "### MODEL OPSLAAN EN OPNIEUW LADEN\n",
    "#Doe dit om memory te besparen en de GPU te clearen\n",
    "model_path = \"model_TEST.pth\"\n",
    "torch.save(model.state_dict(),model_path)"
   ]
  },
  {
   "cell_type": "code",
   "execution_count": 16,
   "metadata": {},
   "outputs": [
    {
     "data": {
      "text/plain": [
       "<All keys matched successfully>"
      ]
     },
     "execution_count": 16,
     "metadata": {},
     "output_type": "execute_result"
    }
   ],
   "source": [
    "model = UNet().to(device)\n",
    "model.load_state_dict(torch.load(model_path))"
   ]
  },
  {
   "cell_type": "code",
   "execution_count": null,
   "metadata": {},
   "outputs": [],
   "source": []
  },
  {
   "cell_type": "code",
   "execution_count": 17,
   "metadata": {},
   "outputs": [
    {
     "name": "stderr",
     "output_type": "stream",
     "text": [
      "  4%|▍         | 5/121 [00:00<00:02, 38.72it/s]"
     ]
    },
    {
     "name": "stdout",
     "output_type": "stream",
     "text": [
      "Step: 0loss: tensor(4069.3643, device='cuda:0', grad_fn=<MseLossBackward0>)\n"
     ]
    },
    {
     "name": "stderr",
     "output_type": "stream",
     "text": [
      " 12%|█▏        | 15/121 [00:00<00:02, 39.64it/s]"
     ]
    },
    {
     "name": "stdout",
     "output_type": "stream",
     "text": [
      "Step: 10loss: tensor(5535.4033, device='cuda:0', grad_fn=<MseLossBackward0>)\n"
     ]
    },
    {
     "name": "stderr",
     "output_type": "stream",
     "text": [
      " 21%|██        | 25/121 [00:00<00:02, 40.38it/s]"
     ]
    },
    {
     "name": "stdout",
     "output_type": "stream",
     "text": [
      "Step: 20loss: tensor(632.9062, device='cuda:0', grad_fn=<MseLossBackward0>)\n"
     ]
    },
    {
     "name": "stderr",
     "output_type": "stream",
     "text": [
      " 23%|██▎       | 28/121 [00:01<00:03, 26.09it/s]\n"
     ]
    },
    {
     "ename": "RuntimeError",
     "evalue": "CUDA out of memory. Tried to allocate 2.00 MiB (GPU 0; 4.00 GiB total capacity; 2.84 GiB already allocated; 0 bytes free; 2.90 GiB reserved in total by PyTorch) If reserved memory is >> allocated memory try setting max_split_size_mb to avoid fragmentation.  See documentation for Memory Management and PYTORCH_CUDA_ALLOC_CONF",
     "output_type": "error",
     "traceback": [
      "\u001b[1;31m---------------------------------------------------------------------------\u001b[0m",
      "\u001b[1;31mRuntimeError\u001b[0m                              Traceback (most recent call last)",
      "\u001b[1;32m~\\AppData\\Local\\Temp\\ipykernel_17724\\1354153234.py\u001b[0m in \u001b[0;36m<module>\u001b[1;34m\u001b[0m\n\u001b[0;32m     10\u001b[0m         \u001b[0mbatch_na\u001b[0m\u001b[1;33m=\u001b[0m\u001b[0mVariable\u001b[0m\u001b[1;33m(\u001b[0m\u001b[0mbatch_na\u001b[0m\u001b[1;33m.\u001b[0m\u001b[0mcuda\u001b[0m\u001b[1;33m(\u001b[0m\u001b[1;33m)\u001b[0m\u001b[1;33m)\u001b[0m\u001b[1;33m\u001b[0m\u001b[1;33m\u001b[0m\u001b[0m\n\u001b[0;32m     11\u001b[0m \u001b[1;33m\u001b[0m\u001b[0m\n\u001b[1;32m---> 12\u001b[1;33m     \u001b[0mpredicted_batch\u001b[0m \u001b[1;33m=\u001b[0m \u001b[0mmodel\u001b[0m\u001b[1;33m(\u001b[0m\u001b[0mbatch_voor\u001b[0m\u001b[1;33m)\u001b[0m\u001b[1;33m\u001b[0m\u001b[1;33m\u001b[0m\u001b[0m\n\u001b[0m\u001b[0;32m     13\u001b[0m \u001b[1;33m\u001b[0m\u001b[0m\n\u001b[0;32m     14\u001b[0m     \u001b[0m_\u001b[0m\u001b[1;33m,\u001b[0m \u001b[0m_\u001b[0m\u001b[1;33m,\u001b[0m \u001b[0mH\u001b[0m\u001b[1;33m,\u001b[0m \u001b[0mW\u001b[0m \u001b[1;33m=\u001b[0m \u001b[0mpredicted_batch\u001b[0m\u001b[1;33m.\u001b[0m\u001b[0mshape\u001b[0m\u001b[1;33m\u001b[0m\u001b[1;33m\u001b[0m\u001b[0m\n",
      "\u001b[1;32mc:\\Users\\Werk\\OneDrive - UGent\\Burgie 4\\Sem 2\\VOP\\Coding\\VOPENV\\lib\\site-packages\\torch\\nn\\modules\\module.py\u001b[0m in \u001b[0;36m_call_impl\u001b[1;34m(self, *input, **kwargs)\u001b[0m\n\u001b[0;32m   1100\u001b[0m         if not (self._backward_hooks or self._forward_hooks or self._forward_pre_hooks or _global_backward_hooks\n\u001b[0;32m   1101\u001b[0m                 or _global_forward_hooks or _global_forward_pre_hooks):\n\u001b[1;32m-> 1102\u001b[1;33m             \u001b[1;32mreturn\u001b[0m \u001b[0mforward_call\u001b[0m\u001b[1;33m(\u001b[0m\u001b[1;33m*\u001b[0m\u001b[0minput\u001b[0m\u001b[1;33m,\u001b[0m \u001b[1;33m**\u001b[0m\u001b[0mkwargs\u001b[0m\u001b[1;33m)\u001b[0m\u001b[1;33m\u001b[0m\u001b[1;33m\u001b[0m\u001b[0m\n\u001b[0m\u001b[0;32m   1103\u001b[0m         \u001b[1;31m# Do not call functions when jit is used\u001b[0m\u001b[1;33m\u001b[0m\u001b[1;33m\u001b[0m\u001b[1;33m\u001b[0m\u001b[0m\n\u001b[0;32m   1104\u001b[0m         \u001b[0mfull_backward_hooks\u001b[0m\u001b[1;33m,\u001b[0m \u001b[0mnon_full_backward_hooks\u001b[0m \u001b[1;33m=\u001b[0m \u001b[1;33m[\u001b[0m\u001b[1;33m]\u001b[0m\u001b[1;33m,\u001b[0m \u001b[1;33m[\u001b[0m\u001b[1;33m]\u001b[0m\u001b[1;33m\u001b[0m\u001b[1;33m\u001b[0m\u001b[0m\n",
      "\u001b[1;32m~\\AppData\\Local\\Temp\\ipykernel_17724\\3255554781.py\u001b[0m in \u001b[0;36mforward\u001b[1;34m(self, inputs)\u001b[0m\n\u001b[0;32m     32\u001b[0m \u001b[1;33m\u001b[0m\u001b[0m\n\u001b[0;32m     33\u001b[0m         \u001b[1;34m\"\"\" Decoder \"\"\"\u001b[0m\u001b[1;33m\u001b[0m\u001b[1;33m\u001b[0m\u001b[0m\n\u001b[1;32m---> 34\u001b[1;33m         \u001b[0md1\u001b[0m \u001b[1;33m=\u001b[0m \u001b[0mself\u001b[0m\u001b[1;33m.\u001b[0m\u001b[0md1\u001b[0m\u001b[1;33m(\u001b[0m\u001b[0mb\u001b[0m\u001b[1;33m,\u001b[0m \u001b[0ms4\u001b[0m\u001b[1;33m)\u001b[0m\u001b[1;33m\u001b[0m\u001b[1;33m\u001b[0m\u001b[0m\n\u001b[0m\u001b[0;32m     35\u001b[0m         \u001b[0md2\u001b[0m \u001b[1;33m=\u001b[0m \u001b[0mself\u001b[0m\u001b[1;33m.\u001b[0m\u001b[0md2\u001b[0m\u001b[1;33m(\u001b[0m\u001b[0md1\u001b[0m\u001b[1;33m,\u001b[0m \u001b[0ms3\u001b[0m\u001b[1;33m)\u001b[0m\u001b[1;33m\u001b[0m\u001b[1;33m\u001b[0m\u001b[0m\n\u001b[0;32m     36\u001b[0m         \u001b[0md3\u001b[0m \u001b[1;33m=\u001b[0m \u001b[0mself\u001b[0m\u001b[1;33m.\u001b[0m\u001b[0md3\u001b[0m\u001b[1;33m(\u001b[0m\u001b[0md2\u001b[0m\u001b[1;33m,\u001b[0m \u001b[0ms2\u001b[0m\u001b[1;33m)\u001b[0m\u001b[1;33m\u001b[0m\u001b[1;33m\u001b[0m\u001b[0m\n",
      "\u001b[1;32mc:\\Users\\Werk\\OneDrive - UGent\\Burgie 4\\Sem 2\\VOP\\Coding\\VOPENV\\lib\\site-packages\\torch\\nn\\modules\\module.py\u001b[0m in \u001b[0;36m_call_impl\u001b[1;34m(self, *input, **kwargs)\u001b[0m\n\u001b[0;32m   1100\u001b[0m         if not (self._backward_hooks or self._forward_hooks or self._forward_pre_hooks or _global_backward_hooks\n\u001b[0;32m   1101\u001b[0m                 or _global_forward_hooks or _global_forward_pre_hooks):\n\u001b[1;32m-> 1102\u001b[1;33m             \u001b[1;32mreturn\u001b[0m \u001b[0mforward_call\u001b[0m\u001b[1;33m(\u001b[0m\u001b[1;33m*\u001b[0m\u001b[0minput\u001b[0m\u001b[1;33m,\u001b[0m \u001b[1;33m**\u001b[0m\u001b[0mkwargs\u001b[0m\u001b[1;33m)\u001b[0m\u001b[1;33m\u001b[0m\u001b[1;33m\u001b[0m\u001b[0m\n\u001b[0m\u001b[0;32m   1103\u001b[0m         \u001b[1;31m# Do not call functions when jit is used\u001b[0m\u001b[1;33m\u001b[0m\u001b[1;33m\u001b[0m\u001b[1;33m\u001b[0m\u001b[0m\n\u001b[0;32m   1104\u001b[0m         \u001b[0mfull_backward_hooks\u001b[0m\u001b[1;33m,\u001b[0m \u001b[0mnon_full_backward_hooks\u001b[0m \u001b[1;33m=\u001b[0m \u001b[1;33m[\u001b[0m\u001b[1;33m]\u001b[0m\u001b[1;33m,\u001b[0m \u001b[1;33m[\u001b[0m\u001b[1;33m]\u001b[0m\u001b[1;33m\u001b[0m\u001b[1;33m\u001b[0m\u001b[0m\n",
      "\u001b[1;32m~\\AppData\\Local\\Temp\\ipykernel_17724\\3775644201.py\u001b[0m in \u001b[0;36mforward\u001b[1;34m(self, inputs, skip)\u001b[0m\n\u001b[0;32m     78\u001b[0m         \u001b[0mskip\u001b[0m \u001b[1;33m=\u001b[0m \u001b[0mtorchvision\u001b[0m\u001b[1;33m.\u001b[0m\u001b[0mtransforms\u001b[0m\u001b[1;33m.\u001b[0m\u001b[0mCenterCrop\u001b[0m\u001b[1;33m(\u001b[0m\u001b[1;33m[\u001b[0m\u001b[0mH\u001b[0m\u001b[1;33m,\u001b[0m\u001b[0mW\u001b[0m\u001b[1;33m]\u001b[0m\u001b[1;33m)\u001b[0m\u001b[1;33m(\u001b[0m\u001b[0mskip\u001b[0m\u001b[1;33m)\u001b[0m\u001b[1;33m\u001b[0m\u001b[1;33m\u001b[0m\u001b[0m\n\u001b[0;32m     79\u001b[0m         \u001b[0mx\u001b[0m \u001b[1;33m=\u001b[0m \u001b[0mtorch\u001b[0m\u001b[1;33m.\u001b[0m\u001b[0mcat\u001b[0m\u001b[1;33m(\u001b[0m\u001b[1;33m[\u001b[0m\u001b[0mskip\u001b[0m\u001b[1;33m,\u001b[0m \u001b[0mx\u001b[0m\u001b[1;33m]\u001b[0m\u001b[1;33m,\u001b[0m \u001b[0maxis\u001b[0m\u001b[1;33m=\u001b[0m\u001b[1;36m1\u001b[0m\u001b[1;33m)\u001b[0m \u001b[1;31m#ik heb ook al meer advanced versies van de resizing gezien, maakt dit veel uit?\u001b[0m\u001b[1;33m\u001b[0m\u001b[1;33m\u001b[0m\u001b[0m\n\u001b[1;32m---> 80\u001b[1;33m         \u001b[0mx\u001b[0m \u001b[1;33m=\u001b[0m \u001b[0mself\u001b[0m\u001b[1;33m.\u001b[0m\u001b[0mconv\u001b[0m\u001b[1;33m(\u001b[0m\u001b[0mx\u001b[0m\u001b[1;33m)\u001b[0m\u001b[1;33m\u001b[0m\u001b[1;33m\u001b[0m\u001b[0m\n\u001b[0m\u001b[0;32m     81\u001b[0m         \u001b[1;32mreturn\u001b[0m \u001b[0mx\u001b[0m\u001b[1;33m\u001b[0m\u001b[1;33m\u001b[0m\u001b[0m\n",
      "\u001b[1;32mc:\\Users\\Werk\\OneDrive - UGent\\Burgie 4\\Sem 2\\VOP\\Coding\\VOPENV\\lib\\site-packages\\torch\\nn\\modules\\module.py\u001b[0m in \u001b[0;36m_call_impl\u001b[1;34m(self, *input, **kwargs)\u001b[0m\n\u001b[0;32m   1100\u001b[0m         if not (self._backward_hooks or self._forward_hooks or self._forward_pre_hooks or _global_backward_hooks\n\u001b[0;32m   1101\u001b[0m                 or _global_forward_hooks or _global_forward_pre_hooks):\n\u001b[1;32m-> 1102\u001b[1;33m             \u001b[1;32mreturn\u001b[0m \u001b[0mforward_call\u001b[0m\u001b[1;33m(\u001b[0m\u001b[1;33m*\u001b[0m\u001b[0minput\u001b[0m\u001b[1;33m,\u001b[0m \u001b[1;33m**\u001b[0m\u001b[0mkwargs\u001b[0m\u001b[1;33m)\u001b[0m\u001b[1;33m\u001b[0m\u001b[1;33m\u001b[0m\u001b[0m\n\u001b[0m\u001b[0;32m   1103\u001b[0m         \u001b[1;31m# Do not call functions when jit is used\u001b[0m\u001b[1;33m\u001b[0m\u001b[1;33m\u001b[0m\u001b[1;33m\u001b[0m\u001b[0m\n\u001b[0;32m   1104\u001b[0m         \u001b[0mfull_backward_hooks\u001b[0m\u001b[1;33m,\u001b[0m \u001b[0mnon_full_backward_hooks\u001b[0m \u001b[1;33m=\u001b[0m \u001b[1;33m[\u001b[0m\u001b[1;33m]\u001b[0m\u001b[1;33m,\u001b[0m \u001b[1;33m[\u001b[0m\u001b[1;33m]\u001b[0m\u001b[1;33m\u001b[0m\u001b[1;33m\u001b[0m\u001b[0m\n",
      "\u001b[1;32m~\\AppData\\Local\\Temp\\ipykernel_17724\\3775644201.py\u001b[0m in \u001b[0;36mforward\u001b[1;34m(self, inputs)\u001b[0m\n\u001b[0;32m     14\u001b[0m         \u001b[0minputs\u001b[0m \u001b[1;33m=\u001b[0m \u001b[0minputs\u001b[0m\u001b[1;33m.\u001b[0m\u001b[0mfloat\u001b[0m\u001b[1;33m(\u001b[0m\u001b[1;33m)\u001b[0m\u001b[1;33m\u001b[0m\u001b[1;33m\u001b[0m\u001b[0m\n\u001b[0;32m     15\u001b[0m         \u001b[0mx\u001b[0m \u001b[1;33m=\u001b[0m \u001b[0mself\u001b[0m\u001b[1;33m.\u001b[0m\u001b[0mconv1\u001b[0m\u001b[1;33m(\u001b[0m\u001b[0minputs\u001b[0m\u001b[1;33m)\u001b[0m\u001b[1;33m\u001b[0m\u001b[1;33m\u001b[0m\u001b[0m\n\u001b[1;32m---> 16\u001b[1;33m         \u001b[0mx\u001b[0m \u001b[1;33m=\u001b[0m \u001b[0mself\u001b[0m\u001b[1;33m.\u001b[0m\u001b[0mbn1\u001b[0m\u001b[1;33m(\u001b[0m\u001b[0mx\u001b[0m\u001b[1;33m)\u001b[0m\u001b[1;33m\u001b[0m\u001b[1;33m\u001b[0m\u001b[0m\n\u001b[0m\u001b[0;32m     17\u001b[0m         \u001b[0mx\u001b[0m \u001b[1;33m=\u001b[0m \u001b[0mself\u001b[0m\u001b[1;33m.\u001b[0m\u001b[0mrelu\u001b[0m\u001b[1;33m(\u001b[0m\u001b[0mx\u001b[0m\u001b[1;33m)\u001b[0m\u001b[1;33m\u001b[0m\u001b[1;33m\u001b[0m\u001b[0m\n\u001b[0;32m     18\u001b[0m         \u001b[0mx\u001b[0m \u001b[1;33m=\u001b[0m \u001b[0mself\u001b[0m\u001b[1;33m.\u001b[0m\u001b[0mconv2\u001b[0m\u001b[1;33m(\u001b[0m\u001b[0mx\u001b[0m\u001b[1;33m)\u001b[0m\u001b[1;33m\u001b[0m\u001b[1;33m\u001b[0m\u001b[0m\n",
      "\u001b[1;32mc:\\Users\\Werk\\OneDrive - UGent\\Burgie 4\\Sem 2\\VOP\\Coding\\VOPENV\\lib\\site-packages\\torch\\nn\\modules\\module.py\u001b[0m in \u001b[0;36m_call_impl\u001b[1;34m(self, *input, **kwargs)\u001b[0m\n\u001b[0;32m   1100\u001b[0m         if not (self._backward_hooks or self._forward_hooks or self._forward_pre_hooks or _global_backward_hooks\n\u001b[0;32m   1101\u001b[0m                 or _global_forward_hooks or _global_forward_pre_hooks):\n\u001b[1;32m-> 1102\u001b[1;33m             \u001b[1;32mreturn\u001b[0m \u001b[0mforward_call\u001b[0m\u001b[1;33m(\u001b[0m\u001b[1;33m*\u001b[0m\u001b[0minput\u001b[0m\u001b[1;33m,\u001b[0m \u001b[1;33m**\u001b[0m\u001b[0mkwargs\u001b[0m\u001b[1;33m)\u001b[0m\u001b[1;33m\u001b[0m\u001b[1;33m\u001b[0m\u001b[0m\n\u001b[0m\u001b[0;32m   1103\u001b[0m         \u001b[1;31m# Do not call functions when jit is used\u001b[0m\u001b[1;33m\u001b[0m\u001b[1;33m\u001b[0m\u001b[1;33m\u001b[0m\u001b[0m\n\u001b[0;32m   1104\u001b[0m         \u001b[0mfull_backward_hooks\u001b[0m\u001b[1;33m,\u001b[0m \u001b[0mnon_full_backward_hooks\u001b[0m \u001b[1;33m=\u001b[0m \u001b[1;33m[\u001b[0m\u001b[1;33m]\u001b[0m\u001b[1;33m,\u001b[0m \u001b[1;33m[\u001b[0m\u001b[1;33m]\u001b[0m\u001b[1;33m\u001b[0m\u001b[1;33m\u001b[0m\u001b[0m\n",
      "\u001b[1;32mc:\\Users\\Werk\\OneDrive - UGent\\Burgie 4\\Sem 2\\VOP\\Coding\\VOPENV\\lib\\site-packages\\torch\\nn\\modules\\batchnorm.py\u001b[0m in \u001b[0;36mforward\u001b[1;34m(self, input)\u001b[0m\n\u001b[0;32m    177\u001b[0m             \u001b[0mbn_training\u001b[0m\u001b[1;33m,\u001b[0m\u001b[1;33m\u001b[0m\u001b[1;33m\u001b[0m\u001b[0m\n\u001b[0;32m    178\u001b[0m             \u001b[0mexponential_average_factor\u001b[0m\u001b[1;33m,\u001b[0m\u001b[1;33m\u001b[0m\u001b[1;33m\u001b[0m\u001b[0m\n\u001b[1;32m--> 179\u001b[1;33m             \u001b[0mself\u001b[0m\u001b[1;33m.\u001b[0m\u001b[0meps\u001b[0m\u001b[1;33m,\u001b[0m\u001b[1;33m\u001b[0m\u001b[1;33m\u001b[0m\u001b[0m\n\u001b[0m\u001b[0;32m    180\u001b[0m         )\n\u001b[0;32m    181\u001b[0m \u001b[1;33m\u001b[0m\u001b[0m\n",
      "\u001b[1;32mc:\\Users\\Werk\\OneDrive - UGent\\Burgie 4\\Sem 2\\VOP\\Coding\\VOPENV\\lib\\site-packages\\torch\\nn\\functional.py\u001b[0m in \u001b[0;36mbatch_norm\u001b[1;34m(input, running_mean, running_var, weight, bias, training, momentum, eps)\u001b[0m\n\u001b[0;32m   2281\u001b[0m \u001b[1;33m\u001b[0m\u001b[0m\n\u001b[0;32m   2282\u001b[0m     return torch.batch_norm(\n\u001b[1;32m-> 2283\u001b[1;33m         \u001b[0minput\u001b[0m\u001b[1;33m,\u001b[0m \u001b[0mweight\u001b[0m\u001b[1;33m,\u001b[0m \u001b[0mbias\u001b[0m\u001b[1;33m,\u001b[0m \u001b[0mrunning_mean\u001b[0m\u001b[1;33m,\u001b[0m \u001b[0mrunning_var\u001b[0m\u001b[1;33m,\u001b[0m \u001b[0mtraining\u001b[0m\u001b[1;33m,\u001b[0m \u001b[0mmomentum\u001b[0m\u001b[1;33m,\u001b[0m \u001b[0meps\u001b[0m\u001b[1;33m,\u001b[0m \u001b[0mtorch\u001b[0m\u001b[1;33m.\u001b[0m\u001b[0mbackends\u001b[0m\u001b[1;33m.\u001b[0m\u001b[0mcudnn\u001b[0m\u001b[1;33m.\u001b[0m\u001b[0menabled\u001b[0m\u001b[1;33m\u001b[0m\u001b[1;33m\u001b[0m\u001b[0m\n\u001b[0m\u001b[0;32m   2284\u001b[0m     )\n\u001b[0;32m   2285\u001b[0m \u001b[1;33m\u001b[0m\u001b[0m\n",
      "\u001b[1;31mRuntimeError\u001b[0m: CUDA out of memory. Tried to allocate 2.00 MiB (GPU 0; 4.00 GiB total capacity; 2.84 GiB already allocated; 0 bytes free; 2.90 GiB reserved in total by PyTorch) If reserved memory is >> allocated memory try setting max_split_size_mb to avoid fragmentation.  See documentation for Memory Management and PYTORCH_CUDA_ALLOC_CONF"
     ]
    }
   ],
   "source": [
    "### TESTING\n",
    "model.eval()\n",
    "test_acc = []\n",
    "for i, (batch_voor,batch_na) in enumerate(tqdm(test_loader)):\n",
    "    #batch_voor = batch_voor.view(batch_size,1,121,242)\n",
    "    #batch_na = batch_na.view(batch_size,1,121,242)\n",
    "    \n",
    "    if torch.cuda.is_available():\n",
    "        batch_voor=Variable(batch_voor.cuda())\n",
    "        batch_na=Variable(batch_na.cuda())\n",
    "    \n",
    "    predicted_batch = model(batch_voor)\n",
    "\n",
    "    _, _, H, W = predicted_batch.shape\n",
    "    batch_na = torchvision.transforms.CenterCrop([H,W])(batch_na)\n",
    "\n",
    "    loss = loss_function(predicted_batch,batch_na) #vergelijk predicted na image met de echte na image\n",
    "    test_acc.append(loss)\n",
    "    if i%10==0:\n",
    "        print('Step: '+ str(i)+'loss: '+str(loss))\n",
    "av_test_acc = np.mean(np.array(test_acc))\n",
    "print(av_test_acc)"
   ]
  },
  {
   "cell_type": "code",
   "execution_count": null,
   "metadata": {},
   "outputs": [],
   "source": []
  },
  {
   "cell_type": "code",
   "execution_count": null,
   "metadata": {},
   "outputs": [],
   "source": [
    "\n",
    "\n"
   ]
  },
  {
   "cell_type": "code",
   "execution_count": null,
   "metadata": {},
   "outputs": [],
   "source": []
  }
 ],
 "metadata": {
  "interpreter": {
   "hash": "1477f09f345c54836698d61586a11c7930607b6c64dd8e48e86789b527ef112b"
  },
  "kernelspec": {
   "display_name": "Python 3.7.9 ('VOPENV': venv)",
   "language": "python",
   "name": "python3"
  },
  "language_info": {
   "codemirror_mode": {
    "name": "ipython",
    "version": 3
   },
   "file_extension": ".py",
   "mimetype": "text/x-python",
   "name": "python",
   "nbconvert_exporter": "python",
   "pygments_lexer": "ipython3",
   "version": "3.7.9"
  },
  "orig_nbformat": 4
 },
 "nbformat": 4,
 "nbformat_minor": 2
}
