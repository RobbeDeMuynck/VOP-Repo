{
 "cells": [
  {
   "cell_type": "code",
   "execution_count": 3,
   "metadata": {},
   "outputs": [],
   "source": [
    "#import torch\n",
    "import pydicom\n",
    "import numpy as np\n",
    "import scipy as sc\n",
    "import matplotlib.pyplot as plt"
   ]
  },
  {
   "cell_type": "code",
   "execution_count": 9,
   "metadata": {},
   "outputs": [
    {
     "ename": "FileNotFoundError",
     "evalue": "[Errno 2] No such file or directory: 'RobbeDeMuynck\\\\VOP-Repo\\\\microCT data X-Cube\\\\584_l0r0\\\\20211021150245_CT_ISRA_0.dcm'",
     "output_type": "error",
     "traceback": [
      "\u001b[1;31m---------------------------------------------------------------------------\u001b[0m",
      "\u001b[1;31mFileNotFoundError\u001b[0m                         Traceback (most recent call last)",
      "\u001b[1;32mC:\\Users\\THIBAU~1\\AppData\\Local\\Temp/ipykernel_17908/1835252243.py\u001b[0m in \u001b[0;36m<module>\u001b[1;34m\u001b[0m\n\u001b[0;32m      1\u001b[0m \u001b[1;31m#Loading microCT scans\u001b[0m\u001b[1;33m\u001b[0m\u001b[1;33m\u001b[0m\u001b[0m\n\u001b[0;32m      2\u001b[0m \u001b[0mfilename_1\u001b[0m \u001b[1;33m=\u001b[0m \u001b[1;34m\"RobbeDeMuynck\\\\VOP-Repo\\\\microCT data X-Cube\\\\584_l0r0\\\\20211021150245_CT_ISRA_0.dcm\"\u001b[0m\u001b[1;33m\u001b[0m\u001b[1;33m\u001b[0m\u001b[0m\n\u001b[1;32m----> 3\u001b[1;33m \u001b[0mdataset_1\u001b[0m \u001b[1;33m=\u001b[0m \u001b[0mpydicom\u001b[0m\u001b[1;33m.\u001b[0m\u001b[0mdcmread\u001b[0m\u001b[1;33m(\u001b[0m\u001b[0mfilename_1\u001b[0m\u001b[1;33m)\u001b[0m\u001b[1;33m\u001b[0m\u001b[1;33m\u001b[0m\u001b[0m\n\u001b[0m\u001b[0;32m      4\u001b[0m \u001b[1;33m\u001b[0m\u001b[0m\n\u001b[0;32m      5\u001b[0m \u001b[0mfilename_2\u001b[0m \u001b[1;33m=\u001b[0m \u001b[1;34m\"RobbeDeMuynck/VOP-Repo/microCT data X-Cube/584_l0r0/20211022112307_CT_ISRA_0.dcm\"\u001b[0m\u001b[1;33m\u001b[0m\u001b[1;33m\u001b[0m\u001b[0m\n",
      "\u001b[1;32m~\\anaconda3\\lib\\site-packages\\pydicom\\filereader.py\u001b[0m in \u001b[0;36mdcmread\u001b[1;34m(fp, defer_size, stop_before_pixels, force, specific_tags)\u001b[0m\n\u001b[0;32m    999\u001b[0m         \u001b[0mcaller_owns_file\u001b[0m \u001b[1;33m=\u001b[0m \u001b[1;32mFalse\u001b[0m\u001b[1;33m\u001b[0m\u001b[1;33m\u001b[0m\u001b[0m\n\u001b[0;32m   1000\u001b[0m         \u001b[0mlogger\u001b[0m\u001b[1;33m.\u001b[0m\u001b[0mdebug\u001b[0m\u001b[1;33m(\u001b[0m\u001b[1;34m\"Reading file '{0}'\"\u001b[0m\u001b[1;33m.\u001b[0m\u001b[0mformat\u001b[0m\u001b[1;33m(\u001b[0m\u001b[0mfp\u001b[0m\u001b[1;33m)\u001b[0m\u001b[1;33m)\u001b[0m\u001b[1;33m\u001b[0m\u001b[1;33m\u001b[0m\u001b[0m\n\u001b[1;32m-> 1001\u001b[1;33m         \u001b[0mfp\u001b[0m \u001b[1;33m=\u001b[0m \u001b[0mopen\u001b[0m\u001b[1;33m(\u001b[0m\u001b[0mfp\u001b[0m\u001b[1;33m,\u001b[0m \u001b[1;34m'rb'\u001b[0m\u001b[1;33m)\u001b[0m\u001b[1;33m\u001b[0m\u001b[1;33m\u001b[0m\u001b[0m\n\u001b[0m\u001b[0;32m   1002\u001b[0m     \u001b[1;32melif\u001b[0m \u001b[0mfp\u001b[0m \u001b[1;32mis\u001b[0m \u001b[1;32mNone\u001b[0m \u001b[1;32mor\u001b[0m \u001b[1;32mnot\u001b[0m \u001b[0mhasattr\u001b[0m\u001b[1;33m(\u001b[0m\u001b[0mfp\u001b[0m\u001b[1;33m,\u001b[0m \u001b[1;34m\"read\"\u001b[0m\u001b[1;33m)\u001b[0m \u001b[1;32mor\u001b[0m \u001b[1;32mnot\u001b[0m \u001b[0mhasattr\u001b[0m\u001b[1;33m(\u001b[0m\u001b[0mfp\u001b[0m\u001b[1;33m,\u001b[0m \u001b[1;34m\"seek\"\u001b[0m\u001b[1;33m)\u001b[0m\u001b[1;33m:\u001b[0m\u001b[1;33m\u001b[0m\u001b[1;33m\u001b[0m\u001b[0m\n\u001b[0;32m   1003\u001b[0m         raise TypeError(\"dcmread: Expected a file path or a file-like, \"\n",
      "\u001b[1;31mFileNotFoundError\u001b[0m: [Errno 2] No such file or directory: 'RobbeDeMuynck\\\\VOP-Repo\\\\microCT data X-Cube\\\\584_l0r0\\\\20211021150245_CT_ISRA_0.dcm'"
     ]
    }
   ],
   "source": [
    "#Loading microCT scans\n",
    "filename_1 = \"microCT data X-Cube\\\\584_l0r0\\\\20211021150245_CT_ISRA_0.dcm\"\n",
    "dataset_1 = pydicom.dcmread(filename_1)\n",
    "\n",
    "filename_2 = \"microCT data X-Cube\\\\584_l0r0\\\\20211022112307_CT_ISRA_0.dcm\"\n",
    "dataset_2 = pydicom.dcmread(filename_2)\n",
    "\n",
    "#plot \n",
    "for i,j in zip(range(187),range(187)):\n",
    "    f, ax = plt.subplots(1,2,figsize = (10,10))\n",
    "    ax[0].imshow(dataset_1.pixel_array[i], cmap=plt.cm.bone)\n",
    "    ax[1].imshow(dataset_2.pixel_array[j], cmap=plt.cm.bone)\n",
    "\n",
    "    plt.show()"
   ]
  },
  {
   "cell_type": "code",
   "execution_count": 5,
   "metadata": {},
   "outputs": [
    {
     "data": {
      "text/plain": [
       "array([[ 42,  30,  61, ...,  29,  47,  47],\n",
       "       [ 36,  19,  20, ...,  34,  26,  52],\n",
       "       [ 38,  27,  30, ...,  27,  30,  49],\n",
       "       ...,\n",
       "       [ 84,  72,  51, ...,  16,  38,  41],\n",
       "       [105,  60,  41, ...,  22,  21,  51],\n",
       "       [ 54,  92,  89, ...,  32,  45,  40]], dtype=uint16)"
      ]
     },
     "execution_count": 5,
     "metadata": {},
     "output_type": "execute_result"
    }
   ],
   "source": [
    "(dataset_1.pixel_array[187])"
   ]
  },
  {
   "cell_type": "code",
   "execution_count": null,
   "metadata": {},
   "outputs": [],
   "source": []
  },
  {
   "cell_type": "code",
   "execution_count": null,
   "metadata": {},
   "outputs": [],
   "source": []
  },
  {
   "cell_type": "code",
   "execution_count": 10,
   "metadata": {},
   "outputs": [
    {
     "name": "stdout",
     "output_type": "stream",
     "text": [
      "test\n"
     ]
    }
   ],
   "source": [
    "print('test')"
   ]
  },
  {
   "cell_type": "code",
   "execution_count": null,
   "metadata": {},
   "outputs": [],
   "source": []
  }
 ],
 "metadata": {
  "kernelspec": {
   "display_name": "Python 3",
   "language": "python",
   "name": "python3"
  },
  "language_info": {
   "codemirror_mode": {
    "name": "ipython",
    "version": 3
   },
   "file_extension": ".py",
   "mimetype": "text/x-python",
   "name": "python",
   "nbconvert_exporter": "python",
   "pygments_lexer": "ipython3",
   "version": "3.9.7"
  }
 },
 "nbformat": 4,
 "nbformat_minor": 2
}
